{
  "nbformat": 4,
  "nbformat_minor": 0,
  "metadata": {
    "colab": {
      "provenance": []
    },
    "kernelspec": {
      "name": "python3",
      "display_name": "Python 3"
    },
    "language_info": {
      "name": "python"
    }
  },
  "cells": [
    {
      "cell_type": "code",
      "execution_count": 1,
      "metadata": {
        "colab": {
          "base_uri": "https://localhost:8080/"
        },
        "id": "kgQCcXqPYtHZ",
        "outputId": "0dd3041d-f9ed-45e9-a572-ecbca9384337"
      },
      "outputs": [
        {
          "output_type": "stream",
          "name": "stdout",
          "text": [
            "\u001b[2K     \u001b[90m━━━━━━━━━━━━━━━━━━━━━━━━━━━━━━━━━━━━━━━━\u001b[0m \u001b[32m8.9/8.9 MB\u001b[0m \u001b[31m46.5 MB/s\u001b[0m eta \u001b[36m0:00:00\u001b[0m\n",
            "\u001b[2K     \u001b[90m━━━━━━━━━━━━━━━━━━━━━━━━━━━━━━━━━━━━━━━\u001b[0m \u001b[32m164.8/164.8 kB\u001b[0m \u001b[31m7.3 MB/s\u001b[0m eta \u001b[36m0:00:00\u001b[0m\n",
            "\u001b[?25h  Preparing metadata (setup.py) ... \u001b[?25l\u001b[?25hdone\n",
            "\u001b[2K     \u001b[90m━━━━━━━━━━━━━━━━━━━━━━━━━━━━━━━━━━━━━━━\u001b[0m \u001b[32m184.3/184.3 kB\u001b[0m \u001b[31m6.3 MB/s\u001b[0m eta \u001b[36m0:00:00\u001b[0m\n",
            "\u001b[2K     \u001b[90m━━━━━━━━━━━━━━━━━━━━━━━━━━━━━━━━━━━━━━━━\u001b[0m \u001b[32m4.8/4.8 MB\u001b[0m \u001b[31m63.3 MB/s\u001b[0m eta \u001b[36m0:00:00\u001b[0m\n",
            "\u001b[2K     \u001b[90m━━━━━━━━━━━━━━━━━━━━━━━━━━━━━━━━━━━━━━━━\u001b[0m \u001b[32m82.1/82.1 kB\u001b[0m \u001b[31m6.5 MB/s\u001b[0m eta \u001b[36m0:00:00\u001b[0m\n",
            "\u001b[2K     \u001b[90m━━━━━━━━━━━━━━━━━━━━━━━━━━━━━━━━━━━━━━━━\u001b[0m \u001b[32m62.7/62.7 kB\u001b[0m \u001b[31m5.0 MB/s\u001b[0m eta \u001b[36m0:00:00\u001b[0m\n",
            "\u001b[2K     \u001b[90m━━━━━━━━━━━━━━━━━━━━━━━━━━━━━━━━━━━━━━\u001b[0m \u001b[32m341.8/341.8 kB\u001b[0m \u001b[31m24.1 MB/s\u001b[0m eta \u001b[36m0:00:00\u001b[0m\n",
            "\u001b[?25h  Building wheel for validators (setup.py) ... \u001b[?25l\u001b[?25hdone\n"
          ]
        }
      ],
      "source": [
        "!pip install -q streamlit"
      ]
    },
    {
      "cell_type": "code",
      "source": [
        "!npm install localtunnel"
      ],
      "metadata": {
        "colab": {
          "base_uri": "https://localhost:8080/"
        },
        "id": "P3eC6vBaaCOU",
        "outputId": "8e3b09ce-c70b-46ae-ea9b-72b648d48d94"
      },
      "execution_count": 2,
      "outputs": [
        {
          "output_type": "stream",
          "name": "stdout",
          "text": [
            "\u001b[K\u001b[?25h\u001b[37;40mnpm\u001b[0m \u001b[0m\u001b[30;43mWARN\u001b[0m \u001b[0m\u001b[35msaveError\u001b[0m ENOENT: no such file or directory, open '/content/package.json'\n",
            "\u001b[K\u001b[?25h\u001b[37;40mnpm\u001b[0m \u001b[0m\u001b[34;40mnotice\u001b[0m\u001b[35m\u001b[0m created a lockfile as package-lock.json. You should commit this file.\n",
            "\u001b[0m\u001b[37;40mnpm\u001b[0m \u001b[0m\u001b[30;43mWARN\u001b[0m \u001b[0m\u001b[35menoent\u001b[0m ENOENT: no such file or directory, open '/content/package.json'\n",
            "\u001b[0m\u001b[37;40mnpm\u001b[0m \u001b[0m\u001b[30;43mWARN\u001b[0m\u001b[35m\u001b[0m content No description\n",
            "\u001b[0m\u001b[37;40mnpm\u001b[0m \u001b[0m\u001b[30;43mWARN\u001b[0m\u001b[35m\u001b[0m content No repository field.\n",
            "\u001b[0m\u001b[37;40mnpm\u001b[0m \u001b[0m\u001b[30;43mWARN\u001b[0m\u001b[35m\u001b[0m content No README data\n",
            "\u001b[0m\u001b[37;40mnpm\u001b[0m \u001b[0m\u001b[30;43mWARN\u001b[0m\u001b[35m\u001b[0m content No license field.\n",
            "\u001b[0m\n",
            "+ localtunnel@2.0.2\n",
            "added 22 packages from 22 contributors and audited 22 packages in 2.537s\n",
            "\n",
            "3 packages are looking for funding\n",
            "  run `npm fund` for details\n",
            "\n",
            "found \u001b[92m0\u001b[0m vulnerabilities\n",
            "\n",
            "\u001b[K\u001b[?25h"
          ]
        }
      ]
    },
    {
      "cell_type": "code",
      "source": [
        "df_path = '/content/drive/MyDrive/wip3.csv'"
      ],
      "metadata": {
        "id": "9G-3xh55L84Q"
      },
      "execution_count": 9,
      "outputs": []
    },
    {
      "cell_type": "code",
      "source": [
        "import pandas as pd\n",
        "from sklearn.linear_model import LogisticRegression\n",
        "\n",
        "df = pd.read_csv(df_path)\n",
        "df['type'].value_counts()\n",
        "df['target_model'] = (df['target']>0).astype(int)\n",
        "\n",
        "lr = LogisticRegression()\n",
        "lr.fit(df[['bert_pred', 'roberta_pred', 'mental_bert_pred', 'mental_roberta_pred']], df['target_model'])\n"
      ],
      "metadata": {
        "colab": {
          "base_uri": "https://localhost:8080/",
          "height": 74
        },
        "id": "cc6qoJqVwiT-",
        "outputId": "16e5c272-d0e7-40a6-87c8-b0f2c9e59fd1"
      },
      "execution_count": 3,
      "outputs": [
        {
          "output_type": "execute_result",
          "data": {
            "text/plain": [
              "LogisticRegression()"
            ],
            "text/html": [
              "<style>#sk-container-id-1 {color: black;background-color: white;}#sk-container-id-1 pre{padding: 0;}#sk-container-id-1 div.sk-toggleable {background-color: white;}#sk-container-id-1 label.sk-toggleable__label {cursor: pointer;display: block;width: 100%;margin-bottom: 0;padding: 0.3em;box-sizing: border-box;text-align: center;}#sk-container-id-1 label.sk-toggleable__label-arrow:before {content: \"▸\";float: left;margin-right: 0.25em;color: #696969;}#sk-container-id-1 label.sk-toggleable__label-arrow:hover:before {color: black;}#sk-container-id-1 div.sk-estimator:hover label.sk-toggleable__label-arrow:before {color: black;}#sk-container-id-1 div.sk-toggleable__content {max-height: 0;max-width: 0;overflow: hidden;text-align: left;background-color: #f0f8ff;}#sk-container-id-1 div.sk-toggleable__content pre {margin: 0.2em;color: black;border-radius: 0.25em;background-color: #f0f8ff;}#sk-container-id-1 input.sk-toggleable__control:checked~div.sk-toggleable__content {max-height: 200px;max-width: 100%;overflow: auto;}#sk-container-id-1 input.sk-toggleable__control:checked~label.sk-toggleable__label-arrow:before {content: \"▾\";}#sk-container-id-1 div.sk-estimator input.sk-toggleable__control:checked~label.sk-toggleable__label {background-color: #d4ebff;}#sk-container-id-1 div.sk-label input.sk-toggleable__control:checked~label.sk-toggleable__label {background-color: #d4ebff;}#sk-container-id-1 input.sk-hidden--visually {border: 0;clip: rect(1px 1px 1px 1px);clip: rect(1px, 1px, 1px, 1px);height: 1px;margin: -1px;overflow: hidden;padding: 0;position: absolute;width: 1px;}#sk-container-id-1 div.sk-estimator {font-family: monospace;background-color: #f0f8ff;border: 1px dotted black;border-radius: 0.25em;box-sizing: border-box;margin-bottom: 0.5em;}#sk-container-id-1 div.sk-estimator:hover {background-color: #d4ebff;}#sk-container-id-1 div.sk-parallel-item::after {content: \"\";width: 100%;border-bottom: 1px solid gray;flex-grow: 1;}#sk-container-id-1 div.sk-label:hover label.sk-toggleable__label {background-color: #d4ebff;}#sk-container-id-1 div.sk-serial::before {content: \"\";position: absolute;border-left: 1px solid gray;box-sizing: border-box;top: 0;bottom: 0;left: 50%;z-index: 0;}#sk-container-id-1 div.sk-serial {display: flex;flex-direction: column;align-items: center;background-color: white;padding-right: 0.2em;padding-left: 0.2em;position: relative;}#sk-container-id-1 div.sk-item {position: relative;z-index: 1;}#sk-container-id-1 div.sk-parallel {display: flex;align-items: stretch;justify-content: center;background-color: white;position: relative;}#sk-container-id-1 div.sk-item::before, #sk-container-id-1 div.sk-parallel-item::before {content: \"\";position: absolute;border-left: 1px solid gray;box-sizing: border-box;top: 0;bottom: 0;left: 50%;z-index: -1;}#sk-container-id-1 div.sk-parallel-item {display: flex;flex-direction: column;z-index: 1;position: relative;background-color: white;}#sk-container-id-1 div.sk-parallel-item:first-child::after {align-self: flex-end;width: 50%;}#sk-container-id-1 div.sk-parallel-item:last-child::after {align-self: flex-start;width: 50%;}#sk-container-id-1 div.sk-parallel-item:only-child::after {width: 0;}#sk-container-id-1 div.sk-dashed-wrapped {border: 1px dashed gray;margin: 0 0.4em 0.5em 0.4em;box-sizing: border-box;padding-bottom: 0.4em;background-color: white;}#sk-container-id-1 div.sk-label label {font-family: monospace;font-weight: bold;display: inline-block;line-height: 1.2em;}#sk-container-id-1 div.sk-label-container {text-align: center;}#sk-container-id-1 div.sk-container {/* jupyter's `normalize.less` sets `[hidden] { display: none; }` but bootstrap.min.css set `[hidden] { display: none !important; }` so we also need the `!important` here to be able to override the default hidden behavior on the sphinx rendered scikit-learn.org. See: https://github.com/scikit-learn/scikit-learn/issues/21755 */display: inline-block !important;position: relative;}#sk-container-id-1 div.sk-text-repr-fallback {display: none;}</style><div id=\"sk-container-id-1\" class=\"sk-top-container\"><div class=\"sk-text-repr-fallback\"><pre>LogisticRegression()</pre><b>In a Jupyter environment, please rerun this cell to show the HTML representation or trust the notebook. <br />On GitHub, the HTML representation is unable to render, please try loading this page with nbviewer.org.</b></div><div class=\"sk-container\" hidden><div class=\"sk-item\"><div class=\"sk-estimator sk-toggleable\"><input class=\"sk-toggleable__control sk-hidden--visually\" id=\"sk-estimator-id-1\" type=\"checkbox\" checked><label for=\"sk-estimator-id-1\" class=\"sk-toggleable__label sk-toggleable__label-arrow\">LogisticRegression</label><div class=\"sk-toggleable__content\"><pre>LogisticRegression()</pre></div></div></div></div></div>"
            ]
          },
          "metadata": {},
          "execution_count": 3
        }
      ]
    },
    {
      "cell_type": "code",
      "source": [
        "df['all_pred'] = lr.predict(df[['bert_pred', 'roberta_pred', 'mental_bert_pred', 'mental_roberta_pred']])"
      ],
      "metadata": {
        "id": "6xfRXQyXAlwy"
      },
      "execution_count": 4,
      "outputs": []
    },
    {
      "cell_type": "code",
      "source": [
        "df.to_csv('test_wip3.csv')"
      ],
      "metadata": {
        "id": "yP3h0QBIA1Ul"
      },
      "execution_count": 5,
      "outputs": []
    },
    {
      "cell_type": "code",
      "source": [
        "%%writefile CONFIG.py\n",
        "\n",
        "model_dict = {'Bert':'bert_pred', 'RoBertA':'roberta_pred', 'MENTAL-Bert':'mental_bert_pred', 'MENTAL-RoBertA':'mental_roberta_pred', 'Ensemble':'all_pred'}\n",
        "path = '/content/test_wip3.csv'\n",
        "target_col = 'target_model'\n",
        "mod_col = 'type'\n",
        "no_flag = 'NOT_FLAGGED'\n",
        "hand_flag = 'MODERATOR'\n",
        "sys_flag = 'STRING_MATCH'\n",
        "text = 'text'\n"
      ],
      "metadata": {
        "colab": {
          "base_uri": "https://localhost:8080/"
        },
        "id": "j1e-lspfZ8Gj",
        "outputId": "2c3f90d6-8357-447b-d56e-8ce04f096d4e"
      },
      "execution_count": 6,
      "outputs": [
        {
          "output_type": "stream",
          "name": "stdout",
          "text": [
            "Writing CONFIG.py\n"
          ]
        }
      ]
    },
    {
      "cell_type": "code",
      "source": [
        "%%writefile app.py\n",
        "\n",
        "import streamlit as st\n",
        "import pandas as pd\n",
        "import numpy as np\n",
        "import matplotlib.pyplot as plt\n",
        "import CONFIG\n",
        "\n",
        "\n",
        "if 'new_targets' not in st.session_state.keys():\n",
        "  st.session_state['new_targets'] = dict()\n",
        "\n",
        "df = pd.read_csv(CONFIG.path)\n",
        "#model_list = ['Bert', 'RoBertA', 'MENTAL-Bert', 'MENTAL-RoBertA', 'Ensemble']\n",
        "st.title('Noise Removing Hand Tool')\n",
        "\n",
        "st.markdown(\"\"\"\n",
        " * Use the menu at left to select data and request new random text\n",
        " * The random text will appear below, along with its grounf truth target, and model predictions\n",
        " * Write the target you would predict for the text as a moderator\n",
        "\"\"\")\n",
        "\n",
        "st.sidebar.markdown(\"## Select the model(s) and data for noise detection\")\n",
        "\n",
        "select_model_event = st.sidebar.selectbox('Which Model to Use?',\n",
        "                                    CONFIG.model_dict.keys())\n",
        "\n",
        "model_outputs = df[CONFIG.model_dict[select_model_event]]\n",
        "targets = df[CONFIG.target_col]\n",
        "\n",
        "select_data_event = st.sidebar.selectbox('Which Data to Sample?',\n",
        "                                    ['All', 'All Moderated', 'Hand Moderated', 'System Moderated', 'Not Moderated'])\n",
        "\n",
        "mask1 = pd.Series(np.ones(len(df)).astype(bool))\n",
        "\n",
        "if select_data_event == 'All Moderated':\n",
        "  mask1 = (df[CONFIG.mod_col] != CONFIG.no_flag)\n",
        "\n",
        "elif select_data_event == 'Hand Moderated':\n",
        "  mask1 = (df[CONFIG.mod_col] == CONFIG.hand_flag)\n",
        "\n",
        "elif select_data_event == 'System Moderated':\n",
        "  mask1 = (df[CONFIG.mod_col] == CONFIG.sys_flag)\n",
        "\n",
        "elif select_data_event == 'Not Moderated':\n",
        "  mask1 = (df[CONFIG.mod_col] == CONFIG.no_flag)\n",
        "\n",
        "select_outcome_event = st.sidebar.selectbox('Which Prediction Outcome to Sample?',\n",
        "                                    ['All', 'True Positive', 'True Negative', 'False Positive', 'False Negative'])\n",
        "\n",
        "mask2 = pd.Series(np.ones(len(df)).astype(bool))\n",
        "\n",
        "if select_outcome_event == 'True Positive':\n",
        "  mask2 = ((targets == 1) & (model_outputs == 1))\n",
        "if select_outcome_event == 'True Negative':\n",
        "  mask2 = ((targets == 0) & (model_outputs == 0))\n",
        "if select_outcome_event == 'False Positive':\n",
        "  mask2 = ((targets == 0) & (model_outputs == 1))\n",
        "if select_outcome_event == 'False Negative':\n",
        "  mask2 = ((targets == 1) & (model_outputs == 0))\n",
        "\n",
        "mask = (mask1 & mask2)\n",
        "\n",
        "sample_df = df[mask]\n",
        "\n",
        "if st.sidebar.button('Pick New Random Page'):\n",
        "  rand_ind = sample_df.sample().index[0]\n",
        "  st.session_state['rand_ind'] = rand_ind\n",
        "\n",
        "if 'rand_ind' in st.session_state.keys():\n",
        "  rand_ind = st.session_state['rand_ind']\n",
        "else:\n",
        "  rand_ind = 0\n",
        "\n",
        "st.markdown(sample_df.loc[rand_ind, CONFIG.text])\n",
        "st.markdown(f'Ground Truth Target: {sample_df.loc[rand_ind, CONFIG.target_col]}')\n",
        "\n",
        "for model_name in CONFIG.model_dict:\n",
        "  st.markdown(f'{model_name} prediction: {sample_df.loc[rand_ind, CONFIG.model_dict[model_name]]}')\n",
        "\n",
        "new_target = st.selectbox('What is the appropriate target?',\n",
        "                  ['<select>',0, 1])\n",
        "\n",
        "if st.button('Save New Target'):\n",
        "  st.session_state['new_targets'][rand_ind] = new_target\n",
        "\n",
        "st.sidebar.download_button('Save All New Targets', pd.Series(st.session_state['new_targets']).to_csv().encode('utf-8'),\n",
        "                              file_name='new_targets.csv', mime='text/csv')"
      ],
      "metadata": {
        "colab": {
          "base_uri": "https://localhost:8080/"
        },
        "id": "2Mn3BHSY_-8R",
        "outputId": "fba99ecc-414a-4b9d-e82f-4513738ef764"
      },
      "execution_count": 7,
      "outputs": [
        {
          "output_type": "stream",
          "name": "stdout",
          "text": [
            "Writing app.py\n"
          ]
        }
      ]
    },
    {
      "cell_type": "code",
      "source": [
        "!streamlit run app.py &>/content/logs.txt & npx localtunnel --port 8501 & wget -q -O - ipv4.icanhazip.com"
      ],
      "metadata": {
        "colab": {
          "base_uri": "https://localhost:8080/"
        },
        "id": "s_78lpnbaLyZ",
        "outputId": "5bf18647-7be3-42f8-cd16-7e4d104fca4a"
      },
      "execution_count": 8,
      "outputs": [
        {
          "output_type": "stream",
          "name": "stdout",
          "text": [
            "104.196.52.71\n",
            "\u001b[K\u001b[?25hnpx: installed 22 in 4.901s\n",
            "your url is: https://few-parrots-arrive.loca.lt\n"
          ]
        }
      ]
    }
  ]
}